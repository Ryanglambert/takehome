{
 "cells": [
  {
   "cell_type": "markdown",
   "metadata": {},
   "source": [
    "# Problem 3. Explain Bayes Theorem. Use an example. \n",
    "\n",
    "\n",
    "Bayes theorem answers:\n",
    "What is the probability of a given hypothesis given the data.\n",
    "\n",
    "\n",
    "$$P(H | D) = \\frac{P(D | H)*P(H)}{P(D)}$$\n",
    "\n",
    "To get this number we calculate the opposite; namely, the Probability of the data if that hypothesis were true time the probability of that hypothesis being true divided by the probability of any data at all. \n",
    "\n",
    "\n",
    "One common example is with cookies. \n",
    "\n",
    "If I have two jars of cookies: \n",
    "\n",
    "jar 1: 30 vanilla and 10 chocolate cookies\n",
    "\n",
    "jar 2: 20 vanilla and 20 chocolate cookies\n",
    "\n",
    "\n",
    "If I pull from a jar at random and I recieve a chocolate cookie, what is the probability that I pulled from jar_1?, from jar_2?"
   ]
  },
  {
   "cell_type": "markdown",
   "metadata": {},
   "source": [
    "### H's and D's\n",
    "- Hypotheses: {'bowl 1', 'bowl 2'}\n",
    "- Data: {'vanilla', 'chocolate'}\n",
    "\n",
    "There's no reason for us not to assume that either bowl is as likely as the other. So our \"prior\" is:\n",
    "\n",
    "- P(H) (**prior**)\n",
    "    - P(bowl 1) = .5\n",
    "    - P(bowl 2) = .5\n",
    "\n",
    "- P(D | H) (**likelihood**)\n",
    "    - P(Vanilla | bowl1) = .75\n",
    "    - P(Vanilla | bowl2) = .5\n",
    "    - P(Chocolate | bowl1) = .5\n",
    "    - P(Chocolate | bowl1) = .5\n",
    "\n",
    "- P(D) (**marginal**) (how probable is the new evidence under all possible hypotheses\n",
    "    - P(Vanilla) = (50/ 80) = 5/8\n",
    "    - P(Chocolate) = (30/80) = 3/8\n",
    "    \n",
    "\n",
    "\n",
    "We're interested in calculating P(H | D)\n",
    "\n",
    "This is easiest to do by setting up a table. \n",
    "\n",
    "Since there are only two jars and their probabilities of being chosen from are disjoint we can simply calculate a table for one of the jars"
   ]
  },
  {
   "cell_type": "markdown",
   "metadata": {},
   "source": [
    "If we pull cookies from the same bowl (with replacement :) ) (put it back and shake it up)\n",
    "\n",
    "$$P(Bowl1 | Vanilla) = \\frac{P(Vanilla | Bowl1)*P(Bowl1)}{P(Vanilla)}$$\n",
    "\n",
    "|pulled cookie|P(Bowl1)|P(Vanilla \\| Bowl1) |P(Vanilla)| P(Bowl1 \\| Vanilla)|\n",
    "| --- | --- | --- | --- | --- |\n",
    "| vanilla |  .5 |  .75 | .625 | **.6** |\n",
    "| vanilla |**.6**| .75|  .625 | **.72**|\n",
    "| not vanilla | **.72** | .25 |  .375  | **.48** |\n",
    "| vanilla |**.48**| .75|  .625 | **.576**|"
   ]
  },
  {
   "cell_type": "markdown",
   "metadata": {},
   "source": [
    "There are a couple nice things about bayesian methods:\n",
    "\n",
    "1. They scale really well.\n",
    "2. They are great at 'partial fitting'. >> great for streaming data and memory friendly. Model updating is inherent.\n",
    "3. They are interpretable.\n"
   ]
  },
  {
   "cell_type": "markdown",
   "metadata": {},
   "source": [
    "### Problem 4\n",
    "### Why is cross validation important. \n",
    "\n",
    "Cross validation is a really good (and easy) way to test how well your model generalizes to data it hasn't seen. \n",
    "\n",
    "The simplest kind of cross validation is KFold cross validation. \n",
    "\n",
    "KFold is when you take the data in, say, 5 folds, train on 4/5th's of the data, and measure the model fit against the 1/5th that your model didn't get to see. You can repeat this for each fold. Assuming you have no data leakage, you can trust that your metrics are based on the performance of your model against data it hasn't seen before. "
   ]
  },
  {
   "cell_type": "markdown",
   "metadata": {},
   "source": [
    "### Problem 5."
   ]
  },
  {
   "cell_type": "markdown",
   "metadata": {},
   "source": [
    "### Explain exploding and vanishing gradients. \n",
    "\n",
    "exploding / vanishing gradients have to do with the steepness or shallowness of a region in the error space. \n",
    "\n",
    "If you haven't scaled your inputs you can sometimes end up with exploding gradients which means your gradient is becoming large enough that it's passing right over areas that it would otherwise descend into. \n",
    "\n",
    "If you're using a sigmoid, sometimes your gradients will become extremely small and make it difficult to move out of a local minima if you're already in one, or simply just make your convergence incredibly slow. \n",
    "\n",
    "One way that both of these issues is handled is by using ReLU's. They aren't a panacea. "
   ]
  },
  {
   "cell_type": "code",
   "execution_count": null,
   "metadata": {},
   "outputs": [],
   "source": []
  },
  {
   "cell_type": "code",
   "execution_count": null,
   "metadata": {},
   "outputs": [],
   "source": []
  },
  {
   "cell_type": "code",
   "execution_count": null,
   "metadata": {},
   "outputs": [],
   "source": []
  },
  {
   "cell_type": "code",
   "execution_count": null,
   "metadata": {},
   "outputs": [],
   "source": []
  },
  {
   "cell_type": "code",
   "execution_count": null,
   "metadata": {},
   "outputs": [],
   "source": []
  },
  {
   "cell_type": "code",
   "execution_count": null,
   "metadata": {},
   "outputs": [],
   "source": []
  },
  {
   "cell_type": "code",
   "execution_count": null,
   "metadata": {},
   "outputs": [],
   "source": []
  },
  {
   "cell_type": "code",
   "execution_count": null,
   "metadata": {},
   "outputs": [],
   "source": []
  },
  {
   "cell_type": "code",
   "execution_count": null,
   "metadata": {},
   "outputs": [],
   "source": []
  }
 ],
 "metadata": {
  "kernelspec": {
   "display_name": "Python 3",
   "language": "python",
   "name": "python3"
  },
  "language_info": {
   "codemirror_mode": {
    "name": "ipython",
    "version": 3
   },
   "file_extension": ".py",
   "mimetype": "text/x-python",
   "name": "python",
   "nbconvert_exporter": "python",
   "pygments_lexer": "ipython3",
   "version": "3.7.0"
  }
 },
 "nbformat": 4,
 "nbformat_minor": 2
}
